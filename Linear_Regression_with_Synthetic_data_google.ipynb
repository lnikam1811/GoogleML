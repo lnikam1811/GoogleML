{
  "nbformat": 4,
  "nbformat_minor": 0,
  "metadata": {
    "colab": {
      "provenance": [],
      "toc_visible": true,
      "authorship_tag": "ABX9TyNQcyTMHbXL2UWJE3M7ypDI",
      "include_colab_link": true
    },
    "kernelspec": {
      "name": "python3",
      "display_name": "Python 3"
    },
    "language_info": {
      "name": "python"
    }
  },
  "cells": [
    {
      "cell_type": "markdown",
      "metadata": {
        "id": "view-in-github",
        "colab_type": "text"
      },
      "source": [
        "<a href=\"https://colab.research.google.com/github/lnikam1811/GoogleML/blob/master/Linear_Regression_with_Synthetic_data_google.ipynb\" target=\"_parent\"><img src=\"https://colab.research.google.com/assets/colab-badge.svg\" alt=\"Open In Colab\"/></a>"
      ]
    },
    {
      "cell_type": "code",
      "execution_count": 1,
      "metadata": {
        "colab": {
          "base_uri": "https://localhost:8080/"
        },
        "id": "MYwmasinVywA",
        "outputId": "9138ad7c-984a-4b69-d0c0-e8a93c0ca80f"
      },
      "outputs": [
        {
          "output_type": "stream",
          "name": "stdout",
          "text": [
            "Defined build_model and train_model\n"
          ]
        }
      ],
      "source": [
        "#@title Define the functions that build and train a model\n",
        "\n",
        "import pandas as pd\n",
        "import tensorflow as tf\n",
        "from matplotlib import pyplot as plt\n",
        "\n",
        "def build_model(my_learning_rate):\n",
        "  \"\"\" Create and compile a simple linear regression model.\"\"\"\n",
        "  #simple keras models are sequential.\n",
        "  # A sequential model contains one or more layers.\n",
        "\n",
        "  model = tf.keras.models.Sequential()\n",
        "\n",
        "  #describe the topography of the model.\n",
        "  #linear regression model = single node in a singel layer\n",
        "\n",
        "  model.add(tf.keras.layers.Dense(units=1, input_shape=(1,)))\n",
        "\n",
        "  # Toppgraphy into code that Tensorflow can effectively execute\n",
        "  #Configure training to minimize the models mean squared error.\n",
        "\n",
        "  model.compile(optimizer=tf.keras.optimizers.RMSprop(lr=my_learning_rate),\n",
        "  loss=\"mean_squared_error\", metrics=[tf.keras.metrics.RootMeanSqauredError()])\n",
        "\n",
        "  return model\n",
        "\n",
        "def train_model(model, feature, label, epochs, batch_size):\n",
        "    \"\"\"Train the model by feeding it data.\"\"\"\n",
        "\n",
        "    #Feed the feature values and the label values to the model.\n",
        "    history = model.fit(x = feature,\n",
        "                        y = label,\n",
        "                        batch_size = batch_size,\n",
        "                        epochs = epochs)\n",
        "\n",
        "    #Gather the trained models weight and bias\n",
        "    trained_weight = model.get_weights()[0]\n",
        "    trained_bias = model.get_weights()[1]\n",
        "\n",
        "    epochs = history.epoch\n",
        "\n",
        "    #gather the history (a snapshot) of each epoch\n",
        "    hist = pd.Dataframe(history.history)\n",
        "\n",
        "    #Specifically gather the models root mean squared error at each epoch.\n",
        "    rmse = hist[\"root_mean_squared_error\"]\n",
        "\n",
        "    return trained_weight, trained_bias, epochs, rmse\n",
        "\n",
        "print(\"Defined build_model and train_model\")"
      ]
    }
  ]
}