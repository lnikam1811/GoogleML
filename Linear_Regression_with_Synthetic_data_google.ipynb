{
  "nbformat": 4,
  "nbformat_minor": 0,
  "metadata": {
    "colab": {
      "provenance": [],
      "toc_visible": true,
      "authorship_tag": "ABX9TyO4SRWPE4dV4Od5UWB+V1wq",
      "include_colab_link": true
    },
    "kernelspec": {
      "name": "python3",
      "display_name": "Python 3"
    },
    "language_info": {
      "name": "python"
    }
  },
  "cells": [
    {
      "cell_type": "markdown",
      "metadata": {
        "id": "view-in-github",
        "colab_type": "text"
      },
      "source": [
        "<a href=\"https://colab.research.google.com/github/lnikam1811/GoogleML/blob/master/Linear_Regression_with_Synthetic_data_google.ipynb\" target=\"_parent\"><img src=\"https://colab.research.google.com/assets/colab-badge.svg\" alt=\"Open In Colab\"/></a>"
      ]
    },
    {
      "cell_type": "code",
      "execution_count": 1,
      "metadata": {
        "colab": {
          "base_uri": "https://localhost:8080/"
        },
        "id": "MYwmasinVywA",
        "outputId": "9138ad7c-984a-4b69-d0c0-e8a93c0ca80f"
      },
      "outputs": [
        {
          "output_type": "stream",
          "name": "stdout",
          "text": [
            "Defined build_model and train_model\n"
          ]
        }
      ],
      "source": [
        "#@title Define the functions that build and train a model\n",
        "\n",
        "import pandas as pd\n",
        "import tensorflow as tf\n",
        "from matplotlib import pyplot as plt\n",
        "\n",
        "my_feature = ([1.0, 2.0,  3.0,  4.0,  5.0,  6.0,  7.0,  8.0,  9.0, 10.0, 11.0, 12.0])\n",
        "my_label   = ([5.0, 8.8,  9.6, 14.2, 18.8, 19.5, 21.4, 26.8, 28.9, 32.0, 33.8, 38.2])\n",
        "\n",
        "def build_model(my_learning_rate):\n",
        "  \"\"\" Create and compile a simple linear regression model.\"\"\"\n",
        "  #simple keras models are sequential.\n",
        "  # A sequential model contains one or more layers.\n",
        "\n",
        "  model = tf.keras.models.Sequential()\n",
        "\n",
        "  #describe the topography of the model.\n",
        "  #linear regression model = single node in a singel layer\n",
        "\n",
        "  model.add(tf.keras.layers.Dense(units=1, input_shape=(1,)))\n",
        "\n",
        "  # Toppgraphy into code that Tensorflow can effectively execute\n",
        "  #Configure training to minimize the models mean squared error.\n",
        "\n",
        "  model.compile(optimizer=tf.keras.optimizers.RMSprop(lr=my_learning_rate),\n",
        "  loss=\"mean_squared_error\", metrics=[tf.keras.metrics.RootMeanSqauredError()])\n",
        "\n",
        "  return model\n",
        "\n",
        "def train_model(model, feature, label, epochs, batch_size):\n",
        "    \"\"\"Train the model by feeding it data.\"\"\"\n",
        "\n",
        "    #Feed the feature values and the label values to the model.\n",
        "    history = model.fit(x = feature,\n",
        "                        y = label,\n",
        "                        batch_size = batch_size,\n",
        "                        epochs = epochs)\n",
        "\n",
        "    #Gather the trained models weight and bias\n",
        "    trained_weight = model.get_weights()[0]\n",
        "    trained_bias = model.get_weights()[1]\n",
        "\n",
        "    epochs = history.epoch\n",
        "\n",
        "    #gather the history (a snapshot) of each epoch\n",
        "    hist = pd.Dataframe(history.history)\n",
        "\n",
        "    #Specifically gather the models root mean squared error at each epoch.\n",
        "    rmse = hist[\"root_mean_squared_error\"]\n",
        "\n",
        "    return trained_weight, trained_bias, epochs, rmse\n",
        "\n",
        "print(\"Defined build_model and train_model\")\n",
        "\n",
        "#Define the plotting functions\n",
        "\n",
        "def plot_the_model(trained_weight, trained_bias, feature, label):\n",
        "  \"\"\"Plot the trained model against the training feature and label.\"\"\"\n",
        "\n",
        "  #label the axes\n",
        "  plt.xlabel(\"feature\")\n",
        "  plt.ylabel(\"label\")\n",
        "\n",
        "  #Plote the feature values vs. label values.\n",
        "  plt.scatter(feature, label)\n",
        "\n",
        "  #create a red line representing the model. The red lines starts\n",
        "  #at coordinates (x0, y0) and ends at coordinates (x1, y1).\n",
        "  x0 = 0\n",
        "  y0 = trained_bias\n",
        "  x1 = fearture[-1]\n",
        "  y1 = trained_bias + (trained_weight * x1)\n",
        "  plt.plot([x0, x1], [y0, y1], c=\"r\")\n",
        "\n",
        "  #Render the scatter plot and the red line.\n",
        "  plt.show()\n",
        "\n",
        "def plot_the_loss_curve(epochs, rmse):\n",
        "  \"\"\" Plot the loss curve, which shows loss vs. epoch.\"\"\"\n",
        "\n",
        "  plt.figure()\n",
        "  plt.xlabel(\"Epoch\")\n",
        "  plt.ylabel(\"Root Mean Squared Error\")\n",
        "\n",
        "  plt.plot(epochs, emse, label=\"Loss\")\n",
        "  plt.legend()\n",
        "  plt.ylim([rmse.min()*0.97, rmse.max()])\n",
        "  plt.show()\n",
        "\n",
        "print(\"Defined the plot_the_model and plot_the_loss_curve functions.\")\n",
        "\n",
        "learning_rate = 0.01\n",
        "epochs = 10\n",
        "my_batch_size = 12\n",
        "\n",
        "my_model = build_model(learning_rate)\n",
        "trained_weight, trained_bias, epochs, rmse = train_model(my_model, my_feature,\n",
        "                                                         my_label, epochs,\n",
        "                                                         my_batch_size)\n",
        "plot_the_model(trained_weight, trained_bias, my_feature, my_label)\n",
        "plot_the_loss_curve(epochs, rmse)\n",
        "\n",
        "    #gather the history (a snapshot) of each epoch\n",
        "    hist = pd.Dataframe(history.history)\n",
        "\n",
        "    #Specifically gather the models root mean squared error at each epoch.\n",
        "    rmse = hist[\"root_mean_squared_error\"]\n",
        "\n",
        "    return trained_weight, trained_bias, epochs, rmse\n",
        "\n",
        "print(\"Defined build_model and train_model\")"
      ]
    }
  ]
}